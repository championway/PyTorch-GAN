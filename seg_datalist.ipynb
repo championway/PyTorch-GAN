{
 "cells": [
  {
   "cell_type": "code",
   "execution_count": 1,
   "metadata": {},
   "outputs": [],
   "source": [
    "import cv2\n",
    "import os\n",
    "import numpy as np\n",
    "import random"
   ]
  },
  {
   "cell_type": "code",
   "execution_count": 2,
   "metadata": {},
   "outputs": [
    {
     "data": {
      "text/plain": [
       "['Images', 'test.txt', 'train.txt']"
      ]
     },
     "execution_count": 2,
     "metadata": {},
     "output_type": "execute_result"
    }
   ],
   "source": [
    "root = \"/media/arg_ws3/5E703E3A703E18EB/data/unity_obj/\"\n",
    "os.listdir(root)"
   ]
  },
  {
   "cell_type": "code",
   "execution_count": 3,
   "metadata": {},
   "outputs": [
    {
     "data": {
      "text/plain": [
       "551"
      ]
     },
     "execution_count": 3,
     "metadata": {},
     "output_type": "execute_result"
    }
   ],
   "source": [
    "files = []\n",
    "for dirPath, dirNames, fileNames in os.walk(root):\n",
    "    for f in fileNames:\n",
    "        path = os.path.join(dirPath, f).split(root)[-1]\n",
    "        if '_seg.png' in path:\n",
    "            path = path.split('_seg.png')[0]\n",
    "            files.append(path)\n",
    "len(files)"
   ]
  },
  {
   "cell_type": "code",
   "execution_count": 4,
   "metadata": {},
   "outputs": [],
   "source": [
    "train_txt = open(os.path.join(root, \"train.txt\"), \"w\")\n",
    "test_txt = open(os.path.join(root, \"test.txt\"), \"w\")\n",
    "\n",
    "pick_list = []\n",
    "cnt = 0\n",
    "ratio = 0.9\n",
    "\n",
    "while cnt < len(files):\n",
    "    idx = random.randint(0, len(files)-1)\n",
    "    if idx in pick_list:\n",
    "        continue\n",
    "    pick_list.append(idx)\n",
    "    \n",
    "    if cnt < len(files)*ratio:\n",
    "        train_txt.write(files[idx] + '\\n')\n",
    "    else:\n",
    "        test_txt.write(files[idx] + '\\n')\n",
    "    cnt = cnt + 1\n",
    "        \n",
    "train_txt.close()\n",
    "test_txt.close()"
   ]
  }
 ],
 "metadata": {
  "kernelspec": {
   "display_name": "Python 3",
   "language": "python",
   "name": "python3"
  },
  "language_info": {
   "codemirror_mode": {
    "name": "ipython",
    "version": 3
   },
   "file_extension": ".py",
   "mimetype": "text/x-python",
   "name": "python",
   "nbconvert_exporter": "python",
   "pygments_lexer": "ipython3",
   "version": "3.5.2"
  }
 },
 "nbformat": 4,
 "nbformat_minor": 2
}
