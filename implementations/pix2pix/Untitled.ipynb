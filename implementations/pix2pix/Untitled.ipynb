{
 "cells": [
  {
   "cell_type": "code",
   "execution_count": 1,
   "metadata": {},
   "outputs": [],
   "source": [
    "import argparse\n",
    "import os\n",
    "import numpy as np\n",
    "import math\n",
    "import itertools\n",
    "import time\n",
    "import datetime\n",
    "import sys\n",
    "\n",
    "import torchvision.transforms as transforms\n",
    "from torchvision.utils import save_image\n",
    "\n",
    "from torch.utils.data import DataLoader\n",
    "from torchvision import datasets\n",
    "from torch.autograd import Variable\n",
    "\n",
    "from models import *\n",
    "from datasets import *\n",
    "\n",
    "import torch.nn as nn\n",
    "import torch.nn.functional as F\n",
    "import torch"
   ]
  },
  {
   "cell_type": "code",
   "execution_count": 41,
   "metadata": {},
   "outputs": [],
   "source": [
    "cuda = True if torch.cuda.is_available() else False\n",
    "Tensor = torch.cuda.FloatTensor if cuda else torch.FloatTensor"
   ]
  },
  {
   "cell_type": "code",
   "execution_count": 42,
   "metadata": {},
   "outputs": [],
   "source": [
    "transforms_A = [ transforms.Resize((256, 256), Image.BICUBIC),\n",
    "                transforms.ToTensor(),\n",
    "                transforms.Normalize((0.5,0.5,0.5), (0.5,0.5,0.5)) ]\n",
    "transforms_B = [ transforms.Resize((256, 256), Image.BICUBIC),\n",
    "                transforms.ToTensor() ]\n",
    "dataloader = DataLoader(ImageDataset(\"/media/arg_ws3/5E703E3A703E18EB/data/subt_real/\", transforms_A=transforms_A, transforms_B=transforms_B),\n",
    "                        batch_size=1, shuffle=True, num_workers=8)\n",
    "data_iter = iter(dataloader)"
   ]
  },
  {
   "cell_type": "code",
   "execution_count": 47,
   "metadata": {},
   "outputs": [],
   "source": [
    "generator = GeneratorUNet()\n",
    "discriminator = Discriminator()\n",
    "if cuda:\n",
    "    generator = generator.cuda()\n",
    "    discriminator = discriminator.cuda()"
   ]
  },
  {
   "cell_type": "code",
   "execution_count": 77,
   "metadata": {},
   "outputs": [],
   "source": [
    "batch = next(data_iter)\n",
    "real_A = Variable(batch['B'].type(Tensor))\n",
    "real_B = Variable(batch['A'].type(Tensor))"
   ]
  },
  {
   "cell_type": "code",
   "execution_count": 78,
   "metadata": {},
   "outputs": [
    {
     "data": {
      "text/plain": [
       "(1, 16, 16)"
      ]
     },
     "execution_count": 78,
     "metadata": {},
     "output_type": "execute_result"
    }
   ],
   "source": [
    "patch = (1, 256//2**4, 256//2**4)\n",
    "patch"
   ]
  },
  {
   "cell_type": "code",
   "execution_count": 79,
   "metadata": {},
   "outputs": [],
   "source": [
    "valid = Variable(Tensor(np.ones((real_A.size(0), *patch))), requires_grad=False)\n",
    "fake = Variable(Tensor(np.zeros((real_A.size(0), *patch))), requires_grad=False)"
   ]
  },
  {
   "cell_type": "code",
   "execution_count": 80,
   "metadata": {},
   "outputs": [
    {
     "data": {
      "text/plain": [
       "tensor([[[[-0.0121, -0.0574, -0.0312,  ..., -0.1188, -0.0714,  0.0135],\n",
       "          [ 0.0452, -0.1303, -0.2079,  ..., -0.0747, -0.1799, -0.0830],\n",
       "          [ 0.0427,  0.0930, -0.1316,  ...,  0.1492,  0.0406, -0.0753],\n",
       "          ...,\n",
       "          [ 0.1257, -0.0198, -0.1558,  ..., -0.1002,  0.0152, -0.0852],\n",
       "          [ 0.0724,  0.2313,  0.2237,  ...,  0.1921,  0.1879, -0.0705],\n",
       "          [ 0.1089,  0.0540,  0.1451,  ...,  0.2091,  0.1530, -0.0341]],\n",
       "\n",
       "         [[-0.0611, -0.0362, -0.0279,  ...,  0.1552,  0.0966, -0.0161],\n",
       "          [ 0.0166,  0.0379,  0.1096,  ...,  0.0389,  0.0352, -0.0641],\n",
       "          [-0.0095,  0.2534,  0.3360,  ...,  0.2434,  0.1572, -0.1094],\n",
       "          ...,\n",
       "          [-0.1773, -0.1123,  0.0505,  ...,  0.1430, -0.0748, -0.2578],\n",
       "          [-0.0132,  0.1588,  0.0290,  ...,  0.1171,  0.0944, -0.0645],\n",
       "          [ 0.0121,  0.0570,  0.0333,  ...,  0.0544,  0.1803,  0.0053]],\n",
       "\n",
       "         [[ 0.0123,  0.0340,  0.1028,  ..., -0.0748,  0.0720,  0.0566],\n",
       "          [-0.1092, -0.1949, -0.2496,  ..., -0.0523, -0.1067, -0.0879],\n",
       "          [-0.1266, -0.2425, -0.4352,  ..., -0.1191, -0.2140, -0.1443],\n",
       "          ...,\n",
       "          [-0.0525,  0.1101,  0.2273,  ..., -0.1329,  0.2064,  0.2975],\n",
       "          [-0.1086, -0.0640,  0.0793,  ..., -0.1214,  0.1968,  0.2307],\n",
       "          [-0.1271, -0.1406,  0.0412,  ..., -0.1870,  0.0459,  0.1474]]]],\n",
       "       device='cuda:0', grad_fn=<TanhBackward>)"
      ]
     },
     "execution_count": 80,
     "metadata": {},
     "output_type": "execute_result"
    }
   ],
   "source": [
    "fake_B = generator(real_A)\n",
    "fake_B"
   ]
  },
  {
   "cell_type": "code",
   "execution_count": null,
   "metadata": {},
   "outputs": [],
   "source": []
  }
 ],
 "metadata": {
  "kernelspec": {
   "display_name": "Python 3",
   "language": "python",
   "name": "python3"
  },
  "language_info": {
   "codemirror_mode": {
    "name": "ipython",
    "version": 3
   },
   "file_extension": ".py",
   "mimetype": "text/x-python",
   "name": "python",
   "nbconvert_exporter": "python",
   "pygments_lexer": "ipython3",
   "version": "3.5.2"
  }
 },
 "nbformat": 4,
 "nbformat_minor": 2
}
