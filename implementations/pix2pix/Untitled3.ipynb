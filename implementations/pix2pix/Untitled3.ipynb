{
 "cells": [
  {
   "cell_type": "code",
   "execution_count": 1,
   "metadata": {},
   "outputs": [],
   "source": [
    "import os\n",
    "import cv2\n",
    "import numpy as np\n",
    "import sys\n",
    "from PIL import Image\n",
    "if sys.version_info[0] == 2:\n",
    "    import xml.etree.cElementTree as ET\n",
    "else:\n",
    "    import xml.etree.ElementTree as ET\n",
    "ANNOTATION_ROOT = '/media/arg_ws3/5E703E3A703E18EB/data/subt_real_ssd/Annotations'\n",
    "DEPTH_ROOT = '/media/arg_ws3/5E703E3A703E18EB/data/subt_real_ssd/MASKImages'"
   ]
  },
  {
   "cell_type": "code",
   "execution_count": 2,
   "metadata": {},
   "outputs": [
    {
     "name": "stdout",
     "output_type": "stream",
     "text": [
      "405\n"
     ]
    }
   ],
   "source": [
    "files = []\n",
    "for line in open('/media/arg_ws3/5E703E3A703E18EB/data/subt_real_ssd/ImageSets/Main/train.txt'):\n",
    "    files.append((line.strip().split(' ')[0]))\n",
    "print(len(files))"
   ]
  },
  {
   "cell_type": "code",
   "execution_count": 9,
   "metadata": {},
   "outputs": [
    {
     "name": "stdout",
     "output_type": "stream",
     "text": [
      "extinguisher\n",
      "[448, 279, 570, 470]\n"
     ]
    },
    {
     "data": {
      "text/plain": [
       "'img = cv2.imread(DEPTH_ROOT + \\'/\\' + file + \\'.png\\')\\nprint(img.shape)\\ncrop_img = img[bndbox[1]:bndbox[3], bndbox[0]:bndbox[2]]\\nprint(crop_img.shape)\\ncv2.imshow(\"cropped\", crop_img)\\ncv2.waitKey(0)\\ncv2.destroyAllWindows()'"
      ]
     },
     "execution_count": 9,
     "metadata": {},
     "output_type": "execute_result"
    }
   ],
   "source": [
    "file = files[9]\n",
    "target = ET.parse(ANNOTATION_ROOT + '/' + file + '.xml').getroot()\n",
    "for obj in target.iter('object'):\n",
    "    name = obj.find('name').text.lower().strip()\n",
    "    if name != 'bb_extinguisher':\n",
    "        print(name)\n",
    "        continue\n",
    "    polygons = obj.find('polygon')\n",
    "    x = []\n",
    "    y = []\n",
    "    bndbox = []\n",
    "    for polygon in polygons.iter('pt'):\n",
    "        x.append(int(polygon.find('x').text))\n",
    "        y.append(int(polygon.find('y').text))\n",
    "    bndbox.append(min(x))\n",
    "    bndbox.append(min(y))\n",
    "    bndbox.append(max(x))\n",
    "    bndbox.append(max(y))\n",
    "    print(bndbox)\n",
    "img = Image.open(DEPTH_ROOT + '/' + file + '.png')\n",
    "crop_box = (bndbox[0], bndbox[1], bndbox[2], bndbox[3])\n",
    "crop = img.crop(crop_box)\n",
    "crop.show()\n",
    "'''img = cv2.imread(DEPTH_ROOT + '/' + file + '.png')\n",
    "print(img.shape)\n",
    "crop_img = img[bndbox[1]:bndbox[3], bndbox[0]:bndbox[2]]\n",
    "print(crop_img.shape)\n",
    "cv2.imshow(\"cropped\", crop_img)\n",
    "cv2.waitKey(0)\n",
    "cv2.destroyAllWindows()'''"
   ]
  },
  {
   "cell_type": "code",
   "execution_count": 8,
   "metadata": {},
   "outputs": [],
   "source": [
    "img = Image.fromarray(np.array(img)[:, ::-1])\n",
    "img.show()"
   ]
  }
 ],
 "metadata": {
  "kernelspec": {
   "display_name": "Python 3",
   "language": "python",
   "name": "python3"
  },
  "language_info": {
   "codemirror_mode": {
    "name": "ipython",
    "version": 3
   },
   "file_extension": ".py",
   "mimetype": "text/x-python",
   "name": "python",
   "nbconvert_exporter": "python",
   "pygments_lexer": "ipython3",
   "version": "3.5.2"
  }
 },
 "nbformat": 4,
 "nbformat_minor": 2
}
