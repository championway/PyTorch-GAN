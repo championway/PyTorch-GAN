{
 "cells": [
  {
   "cell_type": "code",
   "execution_count": 1,
   "metadata": {},
   "outputs": [],
   "source": [
    "import cv2\n",
    "import matplotlib.pyplot as plt\n",
    "import numpy as np"
   ]
  },
  {
   "cell_type": "code",
   "execution_count": 60,
   "metadata": {},
   "outputs": [
    {
     "name": "stdout",
     "output_type": "stream",
     "text": [
      "(512, 512)\n",
      "0\n",
      "100\n",
      "200\n"
     ]
    },
    {
     "data": {
      "text/plain": [
       "True"
      ]
     },
     "execution_count": 60,
     "metadata": {},
     "output_type": "execute_result"
    }
   ],
   "source": [
    "img_ = np.zeros((512,512), np.uint8)\n",
    "img = np.zeros((512,512), np.uint8)\n",
    "cv2.rectangle(img_, (150,350),(350,128),200,cv2.FILLED)\n",
    "cv2.rectangle(img_, (10,130),(120,30),100, cv2.FILLED)\n",
    "for i in range(512):\n",
    "    for j in range(512):\n",
    "        if img_[j][i] == 200:\n",
    "            img[j][i] = 0\n",
    "        elif img_[j][i] == 100:\n",
    "            img[j][i] = 100\n",
    "        else:\n",
    "            img[j][i] = 200\n",
    "#img = (255-img)\n",
    "#imgray = cv2.cvtColor(img, cv2.COLOR_BGR2GRAY)\n",
    "print(img.shape)\n",
    "cv2.imwrite(\"org.jpg\", img)\n",
    "print(img[250][250])\n",
    "print(img[125][15])\n",
    "print(img[0][0])\n",
    "ret,thresh = cv2.threshold(img, 0, 255, cv2.THRESH_BINARY)\n",
    "#contours, hierarchy = cv2.findContours(thresh,cv2.RETR_TREE,cv2.CHAIN_APPROX_SIMPLE)\n",
    "\n",
    "#cnt_img = cv2.drawContours(img, contours, -1, (0,255,0), 20)\n",
    "#plt.imshow(cnt_img)\n",
    "cv2.imwrite(\"cnt.jpg\", thresh)\n",
    "thresh = 255 - thresh\n",
    "kernel = np.ones((5,5),np.uint8)\n",
    "dilated = cv2.dilate(thresh,kernel,iterations = 1)\n",
    "dilated = 255 - dilated\n",
    "cv2.imwrite(\"dilate.jpg\", dilated)"
   ]
  },
  {
   "cell_type": "code",
   "execution_count": null,
   "metadata": {},
   "outputs": [],
   "source": []
  }
 ],
 "metadata": {
  "kernelspec": {
   "display_name": "Python 3",
   "language": "python",
   "name": "python3"
  },
  "language_info": {
   "codemirror_mode": {
    "name": "ipython",
    "version": 3
   },
   "file_extension": ".py",
   "mimetype": "text/x-python",
   "name": "python",
   "nbconvert_exporter": "python",
   "pygments_lexer": "ipython3",
   "version": "3.5.2"
  }
 },
 "nbformat": 4,
 "nbformat_minor": 2
}
