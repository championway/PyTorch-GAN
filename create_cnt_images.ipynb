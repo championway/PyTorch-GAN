{
 "cells": [
  {
   "cell_type": "code",
   "execution_count": 1,
   "metadata": {},
   "outputs": [],
   "source": [
    "import numpy as np\n",
    "import cv2\n",
    "from PIL import Image\n",
    "import matplotlib.pyplot as plt\n",
    "import os"
   ]
  },
  {
   "cell_type": "code",
   "execution_count": 5,
   "metadata": {},
   "outputs": [],
   "source": [
    "def save_cnt_img(img_path):\n",
    "    img = cv2.imread(img_path)\n",
    "    img_cnt = np.zeros(img.shape, np.uint8)\n",
    "    #img_mask = np.zeros(img.shape, np.uint8)\n",
    "    #img_black = np.zeros(img.shape, np.uint8)\n",
    "    imgray = cv2.cvtColor(img,cv2.COLOR_BGR2GRAY)\n",
    "    contours_list = []\n",
    "    while(imgray.max()!=0):\n",
    "        ret,thresh = cv2.threshold(imgray, imgray.max()-20, 255, cv2.THRESH_BINARY)\n",
    "        contours, hierarchy = cv2.findContours(thresh,cv2.RETR_TREE,cv2.CHAIN_APPROX_SIMPLE)\n",
    "        contours_list.append(contours)\n",
    "        imgray[imgray >= imgray.max()-20] = 0\n",
    "    for cnt in contours_list:\n",
    "        cv2.drawContours(img_cnt, cnt, -1, (255, 255, 255), 3);\n",
    "    #plt.imshow(img_cnt)\n",
    "    new_img_path = img_path.split('_seg.png')[0] + '_cnt.png'\n",
    "    cv2.imwrite(new_img_path, img_cnt)"
   ]
  },
  {
   "cell_type": "code",
   "execution_count": 6,
   "metadata": {},
   "outputs": [
    {
     "name": "stdout",
     "output_type": "stream",
     "text": [
      "Total 551 images\n"
     ]
    }
   ],
   "source": [
    "root = \"/media/arg_ws3/5E703E3A703E18EB/data/unity_obj/\"\n",
    "count = 0\n",
    "for dirPath, dirNames, fileNames in os.walk(root):\n",
    "    for f in fileNames:\n",
    "        path = os.path.join(dirPath, f)\n",
    "        if '_seg.png' in path:\n",
    "            save_cnt_img(path)\n",
    "            count = count + 1\n",
    "print('Total ' + str(count) + ' images')"
   ]
  }
 ],
 "metadata": {
  "kernelspec": {
   "display_name": "Python 3",
   "language": "python",
   "name": "python3"
  },
  "language_info": {
   "codemirror_mode": {
    "name": "ipython",
    "version": 3
   },
   "file_extension": ".py",
   "mimetype": "text/x-python",
   "name": "python",
   "nbconvert_exporter": "python",
   "pygments_lexer": "ipython3",
   "version": "3.5.2"
  }
 },
 "nbformat": 4,
 "nbformat_minor": 2
}
